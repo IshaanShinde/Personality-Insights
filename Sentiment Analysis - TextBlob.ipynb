{
  "nbformat": 4,
  "nbformat_minor": 0,
  "metadata": {
    "colab": {
      "provenance": []
    },
    "kernelspec": {
      "name": "python3",
      "display_name": "Python 3"
    },
    "language_info": {
      "name": "python"
    }
  },
  "cells": [
    {
      "cell_type": "code",
      "source": [
        "!pip install PyPDF2"
      ],
      "metadata": {
        "colab": {
          "base_uri": "https://localhost:8080/"
        },
        "id": "Gx3i1Zofh0SM",
        "outputId": "65fa0ff8-f9ae-4474-9464-11289bf43b30"
      },
      "execution_count": 3,
      "outputs": [
        {
          "output_type": "stream",
          "name": "stdout",
          "text": [
            "Collecting PyPDF2\n",
            "  Downloading pypdf2-3.0.1-py3-none-any.whl (232 kB)\n",
            "\u001b[?25l     \u001b[90m━━━━━━━━━━━━━━━━━━━━━━━━━━━━━━━━━━━━━━━━\u001b[0m \u001b[32m0.0/232.6 kB\u001b[0m \u001b[31m?\u001b[0m eta \u001b[36m-:--:--\u001b[0m\r\u001b[2K     \u001b[91m━━━━━━━━━━━━━━━━━━━━━━━━\u001b[0m\u001b[91m╸\u001b[0m\u001b[90m━━━━━━━━━━━━━━━\u001b[0m \u001b[32m143.4/232.6 kB\u001b[0m \u001b[31m4.1 MB/s\u001b[0m eta \u001b[36m0:00:01\u001b[0m\r\u001b[2K     \u001b[90m━━━━━━━━━━━━━━━━━━━━━━━━━━━━━━━━━━━━━━━━\u001b[0m \u001b[32m232.6/232.6 kB\u001b[0m \u001b[31m4.1 MB/s\u001b[0m eta \u001b[36m0:00:00\u001b[0m\n",
            "\u001b[?25hInstalling collected packages: PyPDF2\n",
            "Successfully installed PyPDF2-3.0.1\n"
          ]
        }
      ]
    },
    {
      "cell_type": "code",
      "execution_count": 4,
      "metadata": {
        "id": "4zScqLX0hjPr"
      },
      "outputs": [],
      "source": [
        "import numpy as np\n",
        "import pandas as pd\n",
        "\n",
        "import PyPDF2"
      ]
    },
    {
      "cell_type": "markdown",
      "source": [
        "Importing the Document"
      ],
      "metadata": {
        "id": "oBqXHHloFkqN"
      }
    },
    {
      "cell_type": "code",
      "source": [
        "document_path = \"./Looking Back on High School Life - Hikigaya Hachiman.pdf\""
      ],
      "metadata": {
        "id": "A0r-tilCh9bv"
      },
      "execution_count": 10,
      "outputs": []
    },
    {
      "cell_type": "code",
      "source": [
        "document = open(document_path, 'rb')"
      ],
      "metadata": {
        "id": "0hn77qsKhnU9"
      },
      "execution_count": 11,
      "outputs": []
    },
    {
      "cell_type": "code",
      "source": [
        "pdfReader = PyPDF2.PdfReader(document)\n",
        "\n",
        "num_pages = len(pdfReader.pages)\n",
        "\n",
        "text = \"\"\n",
        "\n",
        "for page in range(num_pages):\n",
        "    pageHandle = pdfReader.pages[page]\n",
        "    text += pageHandle.extract_text()"
      ],
      "metadata": {
        "id": "R11WK-iyh7pJ"
      },
      "execution_count": 12,
      "outputs": []
    },
    {
      "cell_type": "code",
      "source": [
        "document.close()"
      ],
      "metadata": {
        "id": "vGzXCTF9iN7S"
      },
      "execution_count": 13,
      "outputs": []
    },
    {
      "cell_type": "code",
      "source": [
        "text"
      ],
      "metadata": {
        "colab": {
          "base_uri": "https://localhost:8080/",
          "height": 192
        },
        "id": "dFphqGpziP1z",
        "outputId": "4f844bbb-ec49-496a-d65c-7d07b08d037f"
      },
      "execution_count": 14,
      "outputs": [
        {
          "output_type": "execute_result",
          "data": {
            "text/plain": [
              "\"'Looking Back on High School Life'\\nClass 2F – Hikigaya Hachiman\\nYouth is a lie. It is nothing but evil.\\nThose of you who rejoice in youth are perpetually deceiving yourselves and those around you. You \\nperceive everything about the reality surrounding you in a positive light. Even life-threatening \\nmistakes will be remembered as single page proofs of your youth.\\nI'll give you an example. If such people were to dabble in criminal acts such as shoplifting or mass \\nrioting, it would be called ‘youthful indiscretion.’ If they were to fail an exam, they would say \\nschool is not only a place for studying. Their pursuit of 'youth' excuses even distortions of \\ncommonly held beliefs and social norms.\\nUnder their discretion, lies, secrets, crimes and even failure are nothing but the spice of one's youth. \\nAnd in their corrupt ways, they discover something peculiar about failure. They conclude that while  \\ntheir own failures are generally a part of relishing in youth, others' failures should be shot down as \\njust failures and nothing more.\\nIf failure is seen proof of one's youth, isn't it strange not to consider those who fail to make friends \\nas experiencing the height of their youth? Not that they acknowledge that.\\nIt amounts to nothing. This is simply opportunism. \\nTherefore, it is a sham, full of damnable lies, deception, secrets and fraud.\\nThey are evil.\\nThat is to say, ironic as it is, those who do not glorify their youth are the truly righteous ones.\\nIn conclusion: “Riajuu”, go blow yourselves up.\""
            ],
            "application/vnd.google.colaboratory.intrinsic+json": {
              "type": "string"
            }
          },
          "metadata": {},
          "execution_count": 14
        }
      ]
    },
    {
      "cell_type": "markdown",
      "source": [
        "Analyzing the Text"
      ],
      "metadata": {
        "id": "gAgPGojQIR6p"
      }
    },
    {
      "cell_type": "code",
      "source": [
        "from textblob import TextBlob"
      ],
      "metadata": {
        "id": "SQZIWCrIH3pK"
      },
      "execution_count": 27,
      "outputs": []
    },
    {
      "cell_type": "code",
      "source": [
        "blob = TextBlob(text)\n",
        "sentiment = blob.sentiment"
      ],
      "metadata": {
        "id": "qblvqqzoIdqz"
      },
      "execution_count": 28,
      "outputs": []
    },
    {
      "cell_type": "markdown",
      "source": [
        "Overall Scores"
      ],
      "metadata": {
        "id": "exNxRAaJJoUI"
      }
    },
    {
      "cell_type": "code",
      "source": [
        "polarity = sentiment.polarity\n",
        "subjectivity = sentiment.subjectivity"
      ],
      "metadata": {
        "id": "2KmAv1GIIrJW"
      },
      "execution_count": 29,
      "outputs": []
    },
    {
      "cell_type": "code",
      "source": [
        "print(f'\\npolarity = {polarity}\\n\\nsubjectivity = {subjectivity}')"
      ],
      "metadata": {
        "colab": {
          "base_uri": "https://localhost:8080/"
        },
        "id": "J7HmqcjLI9wD",
        "outputId": "6f41fb67-6b52-4a35-e0a8-72999449618a"
      },
      "execution_count": 30,
      "outputs": [
        {
          "output_type": "stream",
          "name": "stdout",
          "text": [
            "\n",
            "polarity = -0.10884062297855401\n",
            "\n",
            "subjectivity = 0.4952565059461613\n"
          ]
        }
      ]
    },
    {
      "cell_type": "markdown",
      "source": [
        "Scores by Sentence"
      ],
      "metadata": {
        "id": "ZAdGeD7FKUsb"
      }
    },
    {
      "cell_type": "code",
      "source": [
        "!python -m textblob.download_corpora"
      ],
      "metadata": {
        "colab": {
          "base_uri": "https://localhost:8080/"
        },
        "id": "g6nhNIB5L-wC",
        "outputId": "bb547194-0f95-4eb2-8505-c30b18516a0e"
      },
      "execution_count": 34,
      "outputs": [
        {
          "output_type": "stream",
          "name": "stdout",
          "text": [
            "[nltk_data] Downloading package brown to /root/nltk_data...\n",
            "[nltk_data]   Unzipping corpora/brown.zip.\n",
            "[nltk_data] Downloading package punkt to /root/nltk_data...\n",
            "[nltk_data]   Unzipping tokenizers/punkt.zip.\n",
            "[nltk_data] Downloading package wordnet to /root/nltk_data...\n",
            "[nltk_data] Downloading package averaged_perceptron_tagger to\n",
            "[nltk_data]     /root/nltk_data...\n",
            "[nltk_data]   Unzipping taggers/averaged_perceptron_tagger.zip.\n",
            "[nltk_data] Downloading package conll2000 to /root/nltk_data...\n",
            "[nltk_data]   Unzipping corpora/conll2000.zip.\n",
            "[nltk_data] Downloading package movie_reviews to /root/nltk_data...\n",
            "[nltk_data]   Unzipping corpora/movie_reviews.zip.\n",
            "Finished.\n"
          ]
        }
      ]
    },
    {
      "cell_type": "code",
      "source": [
        "for sentence in blob.sentences:\n",
        "    print(f'\\n\\n{sentence}\\n{sentence.sentiment}')"
      ],
      "metadata": {
        "colab": {
          "base_uri": "https://localhost:8080/"
        },
        "id": "1OVCOSILJJ6S",
        "outputId": "b4446363-17e7-4203-aeaa-fc869e2c13cf"
      },
      "execution_count": 35,
      "outputs": [
        {
          "output_type": "stream",
          "name": "stdout",
          "text": [
            "\n",
            "\n",
            "'Looking Back on High School Life'\n",
            "Class 2F – Hikigaya Hachiman\n",
            "Youth is a lie.\n",
            "Sentiment(polarity=0.08, subjectivity=0.26999999999999996)\n",
            "\n",
            "\n",
            "It is nothing but evil.\n",
            "Sentiment(polarity=-1.0, subjectivity=1.0)\n",
            "\n",
            "\n",
            "Those of you who rejoice in youth are perpetually deceiving yourselves and those around you.\n",
            "Sentiment(polarity=-0.05, subjectivity=0.2)\n",
            "\n",
            "\n",
            "You \n",
            "perceive everything about the reality surrounding you in a positive light.\n",
            "Sentiment(polarity=0.31363636363636366, subjectivity=0.6227272727272727)\n",
            "\n",
            "\n",
            "Even life-threatening \n",
            "mistakes will be remembered as single page proofs of your youth.\n",
            "Sentiment(polarity=-0.07142857142857142, subjectivity=0.21428571428571427)\n",
            "\n",
            "\n",
            "I'll give you an example.\n",
            "Sentiment(polarity=0.0, subjectivity=0.0)\n",
            "\n",
            "\n",
            "If such people were to dabble in criminal acts such as shoplifting or mass \n",
            "rioting, it would be called ‘youthful indiscretion.’ If they were to fail an exam, they would say \n",
            "school is not only a place for studying.\n",
            "Sentiment(polarity=-0.18, subjectivity=0.5700000000000001)\n",
            "\n",
            "\n",
            "Their pursuit of 'youth' excuses even distortions of \n",
            "commonly held beliefs and social norms.\n",
            "Sentiment(polarity=-0.13333333333333333, subjectivity=0.2833333333333333)\n",
            "\n",
            "\n",
            "Under their discretion, lies, secrets, crimes and even failure are nothing but the spice of one's youth.\n",
            "Sentiment(polarity=-0.3166666666666667, subjectivity=0.3)\n",
            "\n",
            "\n",
            "And in their corrupt ways, they discover something peculiar about failure.\n",
            "Sentiment(polarity=-0.4083333333333333, subjectivity=0.65)\n",
            "\n",
            "\n",
            "They conclude that while  \n",
            "their own failures are generally a part of relishing in youth, others' failures should be shot down as \n",
            "just failures and nothing more.\n",
            "Sentiment(polarity=0.24861111111111112, subjectivity=0.5722222222222222)\n",
            "\n",
            "\n",
            "If failure is seen proof of one's youth, isn't it strange not to consider those who fail to make friends \n",
            "as experiencing the height of their youth?\n",
            "Sentiment(polarity=-0.2888888888888889, subjectivity=0.24999999999999997)\n",
            "\n",
            "\n",
            "Not that they acknowledge that.\n",
            "Sentiment(polarity=0.0, subjectivity=0.0)\n",
            "\n",
            "\n",
            "It amounts to nothing.\n",
            "Sentiment(polarity=0.0, subjectivity=0.0)\n",
            "\n",
            "\n",
            "This is simply opportunism.\n",
            "Sentiment(polarity=0.0, subjectivity=0.35714285714285715)\n",
            "\n",
            "\n",
            "Therefore, it is a sham, full of damnable lies, deception, secrets and fraud.\n",
            "Sentiment(polarity=0.07499999999999998, subjectivity=0.42500000000000004)\n",
            "\n",
            "\n",
            "They are evil.\n",
            "Sentiment(polarity=-1.0, subjectivity=1.0)\n",
            "\n",
            "\n",
            "That is to say, ironic as it is, those who do not glorify their youth are the truly righteous ones.\n",
            "Sentiment(polarity=0.2, subjectivity=0.9)\n",
            "\n",
            "\n",
            "In conclusion: “Riajuu”, go blow yourselves up.\n",
            "Sentiment(polarity=0.0, subjectivity=0.0)\n"
          ]
        }
      ]
    },
    {
      "cell_type": "code",
      "source": [],
      "metadata": {
        "id": "NQeJvk1ULTig"
      },
      "execution_count": null,
      "outputs": []
    }
  ]
}