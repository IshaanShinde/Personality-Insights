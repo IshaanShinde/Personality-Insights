{
  "nbformat": 4,
  "nbformat_minor": 0,
  "metadata": {
    "colab": {
      "provenance": []
    },
    "kernelspec": {
      "name": "python3",
      "display_name": "Python 3"
    },
    "language_info": {
      "name": "python"
    }
  },
  "cells": [
    {
      "cell_type": "code",
      "source": [
        "import PyPDF2\n",
        "import numpy as np\n",
        "import pandas as pd"
      ],
      "metadata": {
        "id": "jqRuL_lTTyHa"
      },
      "execution_count": 37,
      "outputs": []
    },
    {
      "cell_type": "markdown",
      "source": [
        "Importing the Document"
      ],
      "metadata": {
        "id": "nSNas9BSVENJ"
      }
    },
    {
      "cell_type": "code",
      "source": [
        "document_path = \"./Looking Back on High School Life - Hikigaya Hachiman.pdf\""
      ],
      "metadata": {
        "id": "_7VSW8kxVDpE"
      },
      "execution_count": 42,
      "outputs": []
    },
    {
      "cell_type": "code",
      "source": [
        "document = open(document_path, 'rb')"
      ],
      "metadata": {
        "id": "BByR-AxOVKTp"
      },
      "execution_count": 43,
      "outputs": []
    },
    {
      "cell_type": "code",
      "source": [
        "pdfReader = PyPDF2.PdfReader(document)\n",
        "\n",
        "num_pages = len(pdfReader.pages)\n",
        "\n",
        "text = \"\"\n",
        "\n",
        "for page in range(num_pages):\n",
        "    pageHandle = pdfReader.pages[page]\n",
        "    text += pageHandle.extract_text()"
      ],
      "metadata": {
        "id": "drDn7imKVKFj"
      },
      "execution_count": 44,
      "outputs": []
    },
    {
      "cell_type": "code",
      "source": [
        "document.close()"
      ],
      "metadata": {
        "id": "IsX9RQFiWO4k"
      },
      "execution_count": 46,
      "outputs": []
    },
    {
      "cell_type": "code",
      "source": [
        "text"
      ],
      "metadata": {
        "colab": {
          "base_uri": "https://localhost:8080/",
          "height": 192
        },
        "id": "CskwmmprVjT7",
        "outputId": "25ce1660-c9ef-49dc-cc25-f31c1c9e3123"
      },
      "execution_count": 45,
      "outputs": [
        {
          "output_type": "execute_result",
          "data": {
            "text/plain": [
              "\"'Looking Back on High School Life'\\nClass 2F – Hikigaya Hachiman\\nYouth is a lie. It is nothing but evil.\\nThose of you who rejoice in youth are perpetually deceiving yourselves and those around you. You \\nperceive everything about the reality surrounding you in a positive light. Even life-threatening \\nmistakes will be remembered as single page proofs of your youth.\\nI'll give you an example. If such people were to dabble in criminal acts such as shoplifting or mass \\nrioting, it would be called ‘youthful indiscretion.’ If they were to fail an exam, they would say \\nschool is not only a place for studying. Their pursuit of 'youth' excuses even distortions of \\ncommonly held beliefs and social norms.\\nUnder their discretion, lies, secrets, crimes and even failure are nothing but the spice of one's youth. \\nAnd in their corrupt ways, they discover something peculiar about failure. They conclude that while  \\ntheir own failures are generally a part of relishing in youth, others' failures should be shot down as \\njust failures and nothing more.\\nIf failure is seen proof of one's youth, isn't it strange not to consider those who fail to make friends \\nas experiencing the height of their youth? Not that they acknowledge that.\\nIt amounts to nothing. This is simply opportunism. \\nTherefore, it is a sham, full of damnable lies, deception, secrets and fraud.\\nThey are evil.\\nThat is to say, ironic as it is, those who do not glorify their youth are the truly righteous ones.\\nIn conclusion: “Riajuu”, go blow yourselves up.\""
            ],
            "application/vnd.google.colaboratory.intrinsic+json": {
              "type": "string"
            }
          },
          "metadata": {},
          "execution_count": 45
        }
      ]
    },
    {
      "cell_type": "markdown",
      "source": [
        "Importing / Downloading Dependencies"
      ],
      "metadata": {
        "id": "mcaq7IREVvjK"
      }
    },
    {
      "cell_type": "code",
      "source": [
        "import nltk\n",
        "from nltk.sentiment import SentimentIntensityAnalyzer"
      ],
      "metadata": {
        "id": "_DveP26UURSK"
      },
      "execution_count": 38,
      "outputs": []
    },
    {
      "cell_type": "code",
      "source": [
        "nltk.download('vader_lexicon')"
      ],
      "metadata": {
        "colab": {
          "base_uri": "https://localhost:8080/"
        },
        "id": "udfYZez5Wo-0",
        "outputId": "7227e365-c5fa-45a9-c123-7b741b31ab87"
      },
      "execution_count": 48,
      "outputs": [
        {
          "output_type": "stream",
          "name": "stderr",
          "text": [
            "[nltk_data] Downloading package vader_lexicon to /root/nltk_data...\n"
          ]
        },
        {
          "output_type": "execute_result",
          "data": {
            "text/plain": [
              "True"
            ]
          },
          "metadata": {},
          "execution_count": 48
        }
      ]
    },
    {
      "cell_type": "markdown",
      "source": [
        "Overall Scores"
      ],
      "metadata": {
        "id": "4jX_gDp9W0Wn"
      }
    },
    {
      "cell_type": "code",
      "source": [
        "def analyze_sentiment(text):\n",
        "    sia = SentimentIntensityAnalyzer()\n",
        "    return sia.polarity_scores(text)"
      ],
      "metadata": {
        "id": "QCGq4L11T894"
      },
      "execution_count": 39,
      "outputs": []
    },
    {
      "cell_type": "code",
      "source": [
        "sentiment_scores = analyze_sentiment(text)"
      ],
      "metadata": {
        "id": "qdQkM46XUbjH"
      },
      "execution_count": 49,
      "outputs": []
    },
    {
      "cell_type": "code",
      "source": [
        "print(f'Positive: {sentiment_scores[\"pos\"]}')\n",
        "print(f'Neutral: {sentiment_scores[\"neu\"]}')\n",
        "print(f'Negative: {sentiment_scores[\"neg\"]}')\n",
        "print(f'Compound: {sentiment_scores[\"compound\"]}')"
      ],
      "metadata": {
        "colab": {
          "base_uri": "https://localhost:8080/"
        },
        "id": "sys7fUzwWceT",
        "outputId": "1efdb5d7-0a9a-41d8-8819-2b609d4df370"
      },
      "execution_count": 50,
      "outputs": [
        {
          "output_type": "stream",
          "name": "stdout",
          "text": [
            "Positive: 0.107\n",
            "Neutral: 0.676\n",
            "Negative: 0.218\n",
            "Compound: -0.9909\n"
          ]
        }
      ]
    },
    {
      "cell_type": "markdown",
      "source": [
        "Scores by Sentence"
      ],
      "metadata": {
        "id": "3ZihnL8nYAWJ"
      }
    },
    {
      "cell_type": "code",
      "source": [
        "sentences = nltk.sent_tokenize(text)"
      ],
      "metadata": {
        "id": "E3zE4E-EX2Bq"
      },
      "execution_count": 51,
      "outputs": []
    },
    {
      "cell_type": "code",
      "source": [
        "for cnt, sentence in enumerate(sentences, 1):\n",
        "    sentiment = analyze_sentiment(sentence)\n",
        "    print(f'\\n\\n{cnt}. {sentence}')\n",
        "    print(f'\\nSentiment = {sentiment}')"
      ],
      "metadata": {
        "colab": {
          "base_uri": "https://localhost:8080/"
        },
        "id": "7mtOy-v6Yb_0",
        "outputId": "a2eebe6b-99e8-4cbc-a553-0dd1e824b22c"
      },
      "execution_count": 52,
      "outputs": [
        {
          "output_type": "stream",
          "name": "stdout",
          "text": [
            "\n",
            "\n",
            "1. 'Looking Back on High School Life'\n",
            "Class 2F – Hikigaya Hachiman\n",
            "Youth is a lie.\n",
            "\n",
            "Sentiment = {'neg': 0.0, 'neu': 1.0, 'pos': 0.0, 'compound': 0.0}\n",
            "\n",
            "\n",
            "2. It is nothing but evil.\n",
            "\n",
            "Sentiment = {'neg': 0.0, 'neu': 0.456, 'pos': 0.544, 'compound': 0.6979}\n",
            "\n",
            "\n",
            "3. Those of you who rejoice in youth are perpetually deceiving yourselves and those around you.\n",
            "\n",
            "Sentiment = {'neg': 0.131, 'neu': 0.71, 'pos': 0.158, 'compound': 0.128}\n",
            "\n",
            "\n",
            "4. You \n",
            "perceive everything about the reality surrounding you in a positive light.\n",
            "\n",
            "Sentiment = {'neg': 0.0, 'neu': 0.735, 'pos': 0.265, 'compound': 0.5574}\n",
            "\n",
            "\n",
            "5. Even life-threatening \n",
            "mistakes will be remembered as single page proofs of your youth.\n",
            "\n",
            "Sentiment = {'neg': 0.172, 'neu': 0.828, 'pos': 0.0, 'compound': -0.3612}\n",
            "\n",
            "\n",
            "6. I'll give you an example.\n",
            "\n",
            "Sentiment = {'neg': 0.0, 'neu': 1.0, 'pos': 0.0, 'compound': 0.0}\n",
            "\n",
            "\n",
            "7. If such people were to dabble in criminal acts such as shoplifting or mass \n",
            "rioting, it would be called ‘youthful indiscretion.’ If they were to fail an exam, they would say \n",
            "school is not only a place for studying.\n",
            "\n",
            "Sentiment = {'neg': 0.161, 'neu': 0.839, 'pos': 0.0, 'compound': -0.7845}\n",
            "\n",
            "\n",
            "8. Their pursuit of 'youth' excuses even distortions of \n",
            "commonly held beliefs and social norms.\n",
            "\n",
            "Sentiment = {'neg': 0.0, 'neu': 1.0, 'pos': 0.0, 'compound': 0.0}\n",
            "\n",
            "\n",
            "9. Under their discretion, lies, secrets, crimes and even failure are nothing but the spice of one's youth.\n",
            "\n",
            "Sentiment = {'neg': 0.213, 'neu': 0.787, 'pos': 0.0, 'compound': -0.4678}\n",
            "\n",
            "\n",
            "10. And in their corrupt ways, they discover something peculiar about failure.\n",
            "\n",
            "Sentiment = {'neg': 0.237, 'neu': 0.647, 'pos': 0.115, 'compound': -0.4019}\n",
            "\n",
            "\n",
            "11. They conclude that while  \n",
            "their own failures are generally a part of relishing in youth, others' failures should be shot down as \n",
            "just failures and nothing more.\n",
            "\n",
            "Sentiment = {'neg': 0.268, 'neu': 0.655, 'pos': 0.077, 'compound': -0.7506}\n",
            "\n",
            "\n",
            "12. If failure is seen proof of one's youth, isn't it strange not to consider those who fail to make friends \n",
            "as experiencing the height of their youth?\n",
            "\n",
            "Sentiment = {'neg': 0.197, 'neu': 0.667, 'pos': 0.136, 'compound': -0.4781}\n",
            "\n",
            "\n",
            "13. Not that they acknowledge that.\n",
            "\n",
            "Sentiment = {'neg': 0.0, 'neu': 1.0, 'pos': 0.0, 'compound': 0.0}\n",
            "\n",
            "\n",
            "14. It amounts to nothing.\n",
            "\n",
            "Sentiment = {'neg': 0.0, 'neu': 1.0, 'pos': 0.0, 'compound': 0.0}\n",
            "\n",
            "\n",
            "15. This is simply opportunism.\n",
            "\n",
            "Sentiment = {'neg': 0.0, 'neu': 0.682, 'pos': 0.318, 'compound': 0.1027}\n",
            "\n",
            "\n",
            "16. Therefore, it is a sham, full of damnable lies, deception, secrets and fraud.\n",
            "\n",
            "Sentiment = {'neg': 0.604, 'neu': 0.396, 'pos': 0.0, 'compound': -0.9042}\n",
            "\n",
            "\n",
            "17. They are evil.\n",
            "\n",
            "Sentiment = {'neg': 0.688, 'neu': 0.312, 'pos': 0.0, 'compound': -0.6597}\n",
            "\n",
            "\n",
            "18. That is to say, ironic as it is, those who do not glorify their youth are the truly righteous ones.\n",
            "\n",
            "Sentiment = {'neg': 0.184, 'neu': 0.697, 'pos': 0.119, 'compound': -0.1526}\n",
            "\n",
            "\n",
            "19. In conclusion: “Riajuu”, go blow yourselves up.\n",
            "\n",
            "Sentiment = {'neg': 0.0, 'neu': 1.0, 'pos': 0.0, 'compound': 0.0}\n"
          ]
        }
      ]
    }
  ]
}