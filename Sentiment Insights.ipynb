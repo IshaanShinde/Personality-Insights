{
 "cells": [
  {
   "cell_type": "code",
   "execution_count": null,
   "id": "e123be5d-fea7-45c2-a513-242328ae003f",
   "metadata": {
    "tags": []
   },
   "outputs": [],
   "source": [
    "!pip install PyPDF2"
   ]
  },
  {
   "cell_type": "markdown",
   "id": "dee10075-7b01-44fe-84c1-af494b4a04a1",
   "metadata": {},
   "source": [
    "Importing the Document"
   ]
  },
  {
   "cell_type": "code",
   "execution_count": 1,
   "id": "e1f6c1fb-7575-44f3-bdc7-bf05819f1bb4",
   "metadata": {
    "tags": []
   },
   "outputs": [],
   "source": [
    "import numpy as np\n",
    "import pandas as pd\n",
    "\n",
    "import PyPDF2"
   ]
  },
  {
   "cell_type": "code",
   "execution_count": 2,
   "id": "b1da8760-cbeb-4265-8a85-4abc3cc50186",
   "metadata": {
    "tags": []
   },
   "outputs": [],
   "source": [
    "document_path = \"./Essays/Looking Back on High School Life - Hikigaya Hachiman.pdf\""
   ]
  },
  {
   "cell_type": "code",
   "execution_count": 3,
   "id": "986cf98c-c6b4-428e-972b-3b606270aa6e",
   "metadata": {
    "tags": []
   },
   "outputs": [],
   "source": [
    "document = open(document_path, 'rb')"
   ]
  },
  {
   "cell_type": "code",
   "execution_count": 4,
   "id": "9404816a-7287-4ee9-977d-5579761c3810",
   "metadata": {
    "tags": []
   },
   "outputs": [],
   "source": [
    "pdfReader = PyPDF2.PdfReader(document)\n",
    "\n",
    "num_pages = len(pdfReader.pages)\n",
    "\n",
    "text = \"\"\n",
    "\n",
    "for page in range(num_pages):\n",
    "    pageHandle = pdfReader.pages[page]\n",
    "    text += pageHandle.extract_text()"
   ]
  },
  {
   "cell_type": "code",
   "execution_count": 7,
   "id": "67937a39",
   "metadata": {},
   "outputs": [],
   "source": [
    "document.close()"
   ]
  },
  {
   "cell_type": "code",
   "execution_count": 5,
   "id": "1d37100f-1bce-4cc2-bb85-bdd96a7a002a",
   "metadata": {
    "collapsed": true,
    "jupyter": {
     "outputs_hidden": true
    },
    "tags": []
   },
   "outputs": [
    {
     "data": {
      "text/plain": [
       "\"'Looking Back on High School Life'\\nClass 2F – Hikigaya Hachiman\\nYouth is a lie. It is nothing but evil.\\nThose of you who rejoice in youth are perpetually deceiving yourselves and those around you. You \\nperceive everything about the reality surrounding you in a positive light. Even life-threatening \\nmistakes will be remembered as single page proofs of your youth.\\nI'll give you an example. If such people were to dabble in criminal acts such as shoplifting or mass \\nrioting, it would be called ‘youthful indiscretion.’ If they were to fail an exam, they would say \\nschool is not only a place for studying. Their pursuit of 'youth' excuses even distortions of \\ncommonly held beliefs and social norms.\\nUnder their discretion, lies, secrets, crimes and even failure are nothing but the spice of one's youth. \\nAnd in their corrupt ways, they discover something peculiar about failure. They conclude that while  \\ntheir own failures are generally a part of relishing in youth, others' failures should be shot down as \\njust failures and nothing more.\\nIf failure is seen proof of one's youth, isn't it strange not to consider those who fail to make friends \\nas experiencing the height of their youth? Not that they acknowledge that.\\nIt amounts to nothing. This is simply opportunism. \\nTherefore, it is a sham, full of damnable lies, deception, secrets and fraud.\\nThey are evil.\\nThat is to say, ironic as it is, those who do not glorify their youth are the truly righteous ones.\\nIn conclusion: “Riajuu”, go blow yourselves up.\""
      ]
     },
     "execution_count": 5,
     "metadata": {},
     "output_type": "execute_result"
    }
   ],
   "source": [
    "text"
   ]
  },
  {
   "cell_type": "markdown",
   "id": "c709a6ae-3289-442e-83d6-bfe4efebdbb1",
   "metadata": {},
   "source": [
    "Importing Dependencies"
   ]
  },
  {
   "cell_type": "code",
   "execution_count": null,
   "id": "9cfbfb4b-c93a-467a-a1ea-89502c6e981f",
   "metadata": {
    "collapsed": true,
    "jupyter": {
     "outputs_hidden": true
    },
    "tags": []
   },
   "outputs": [],
   "source": [
    "!pip install transformers torch"
   ]
  },
  {
   "cell_type": "markdown",
   "id": "3ae17a03-486a-406b-92b6-ada70a6715f0",
   "metadata": {},
   "source": [
    "Text Chunking"
   ]
  },
  {
   "cell_type": "code",
   "execution_count": 6,
   "id": "aff2f3eb-97ea-4e8d-84aa-cd6478c66816",
   "metadata": {
    "tags": []
   },
   "outputs": [],
   "source": [
    "def chunkText(text, max_length = 512):\n",
    "    chunks = []\n",
    "    curr_chunk = []\n",
    "    \n",
    "    words = text.split()\n",
    "    \n",
    "    curr_length = 0\n",
    "    for word in words:\n",
    "        \n",
    "        if curr_length + len(word) + 1 > max_length:\n",
    "            chunks.append(' '.join(curr_chunk))\n",
    "            curr_chunk = [word]\n",
    "            curr_length = len(word)\n",
    "        else:\n",
    "            curr_chunk.append(word)\n",
    "            curr_length += len(word) + 1\n",
    "            \n",
    "    if curr_chunk:\n",
    "        chunks.append(' '.join(curr_chunk))\n",
    "    \n",
    "    return chunks\n",
    "            "
   ]
  },
  {
   "cell_type": "markdown",
   "id": "09d37138",
   "metadata": {},
   "source": [
    "Sentiment Analysis Pipeline"
   ]
  }
 ],
 "metadata": {
  "kernelspec": {
   "display_name": "Python 3 (ipykernel)",
   "language": "python",
   "name": "python3"
  },
  "language_info": {
   "codemirror_mode": {
    "name": "ipython",
    "version": 3
   },
   "file_extension": ".py",
   "mimetype": "text/x-python",
   "name": "python",
   "nbconvert_exporter": "python",
   "pygments_lexer": "ipython3",
   "version": "3.12.4"
  }
 },
 "nbformat": 4,
 "nbformat_minor": 5
}
